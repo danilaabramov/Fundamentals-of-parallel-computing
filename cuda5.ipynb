{
  "nbformat": 4,
  "nbformat_minor": 0,
  "metadata": {
    "colab": {
      "provenance": []
    },
    "kernelspec": {
      "name": "python3",
      "display_name": "Python 3"
    },
    "language_info": {
      "name": "python"
    },
    "accelerator": "GPU",
    "gpuClass": "standard"
  },
  "cells": [
    {
      "cell_type": "code",
      "execution_count": null,
      "metadata": {
        "colab": {
          "base_uri": "https://localhost:8080/"
        },
        "id": "8iIlbkFX9d7W",
        "outputId": "8e2d379d-5ae4-478a-98aa-b6bcc4c901d6"
      },
      "outputs": [
        {
          "output_type": "stream",
          "name": "stdout",
          "text": [
            "nvcc: NVIDIA (R) Cuda compiler driver\n",
            "Copyright (c) 2005-2022 NVIDIA Corporation\n",
            "Built on Wed_Sep_21_10:33:58_PDT_2022\n",
            "Cuda compilation tools, release 11.8, V11.8.89\n",
            "Build cuda_11.8.r11.8/compiler.31833905_0\n",
            "Looking in indexes: https://pypi.org/simple, https://us-python.pkg.dev/colab-wheels/public/simple/\n",
            "Collecting git+https://github.com/andreinechaev/nvcc4jupyter.git\n",
            "  Cloning https://github.com/andreinechaev/nvcc4jupyter.git to /tmp/pip-req-build-q1pepg7l\n",
            "  Running command git clone --filter=blob:none --quiet https://github.com/andreinechaev/nvcc4jupyter.git /tmp/pip-req-build-q1pepg7l\n",
            "  Resolved https://github.com/andreinechaev/nvcc4jupyter.git to commit aac710a35f52bb78ab34d2e52517237941399eff\n",
            "  Preparing metadata (setup.py) ... \u001b[?25l\u001b[?25hdone\n",
            "Building wheels for collected packages: NVCCPlugin\n",
            "  Building wheel for NVCCPlugin (setup.py) ... \u001b[?25l\u001b[?25hdone\n",
            "  Created wheel for NVCCPlugin: filename=NVCCPlugin-0.0.2-py3-none-any.whl size=4305 sha256=e6fa99e1a9998cb3754a4688e462becbe9cb8e8d1b8a241bf7be97e98513da5a\n",
            "  Stored in directory: /tmp/pip-ephem-wheel-cache-2o0tboqa/wheels/db/c1/1f/a2bb07bbb4a1ce3c43921252aeafaa6205f08637e292496f04\n",
            "Successfully built NVCCPlugin\n",
            "Installing collected packages: NVCCPlugin\n",
            "Successfully installed NVCCPlugin-0.0.2\n",
            "created output directory at /content/src\n",
            "Out bin /content/result.out\n",
            "/bin/bash: cuda-install-samples-11.2.sh: command not found\n"
          ]
        }
      ],
      "source": [
        "!nvcc --version\n",
        "!pip install git+https://github.com/andreinechaev/nvcc4jupyter.git\n",
        "%load_ext nvcc_plugin\n",
        "!cuda-install-samples-11.2.sh ~ && cd /root/NVIDIA_CUDA-11.2_Samples/"
      ]
    },
    {
      "cell_type": "code",
      "source": [
        "%%cuda --name my_curand.cu\n",
        "\n",
        "#include <cstdlib>\n",
        "#include <curand.h>\n",
        "#include <cublas_v2.h>\n",
        "#include <iostream>\n",
        "#include <ctime>\n",
        "\n",
        "using namespace std;\n",
        "\n",
        "void GPU_fill_rand(float *A, int nr_rows_A, int nr_cols_A) {\n",
        "  curandGenerator_t prng;\n",
        "  curandCreateGenerator(&prng, CURAND_RNG_PSEUDO_DEFAULT);\n",
        "  curandSetPseudoRandomGeneratorSeed(prng, (unsigned long long) clock());\n",
        "  curandGenerateUniform(prng, A, nr_rows_A * nr_cols_A);\n",
        "}\n",
        "\n",
        "// C(m,n) = A(m,k) * B(k,n)\n",
        "void gpu_blas_mmul(const float *A, const float *B, float *C, const int m, const int k, const int n) {\n",
        "  int lda=m,ldb=k,ldc=m;\n",
        "  const float alf = 1;\n",
        "  const float bet = 0;\n",
        "  const float *alpha = &alf;\n",
        "  const float *beta = &bet;\n",
        "  cublasHandle_t handle;\n",
        "  cublasCreate(&handle);\n",
        "  cublasSgemm(handle, CUBLAS_OP_N, CUBLAS_OP_N, m, n, k, alpha, A, lda, B, ldb, beta, C, ldc);\n",
        "  cublasDestroy(handle);\n",
        "}\n",
        "\n",
        "void print_matrix(float* matrix, int rows, int cols) {\n",
        "  for(int i = 0; i < rows; ++i){\n",
        "    for(int j = 0; j < cols; ++j){\n",
        "      printf(\"%f \", matrix[i + j * rows]);\n",
        "    }\n",
        "    printf(\"\\n\");\n",
        "  }\n",
        "  printf(\"\\n\");\n",
        "}\n",
        "\n",
        "void fill_matrix(float* matrix, int rows, int cols) {\n",
        "  for(int i = 0; i < rows; ++i){\n",
        "    for(int j = 0; j < cols; ++j) {\n",
        "      matrix[i + j * rows] = (rand() + 0.0) / RAND_MAX;\n",
        "    }\n",
        "  }\n",
        "}\n",
        "\n",
        "int main() {\n",
        "  int nr_rows_A, nr_cols_A, nr_rows_B, nr_cols_B, nr_rows_C, nr_cols_C;\n",
        "  nr_rows_A = nr_cols_A = nr_rows_B = nr_cols_B = nr_rows_C = nr_cols_C = 6000;\n",
        "  float *h_A = (float *)malloc(nr_rows_A * nr_cols_A * sizeof(float));\n",
        "  float *h_B = (float *)malloc(nr_rows_B * nr_cols_B * sizeof(float));\n",
        "  float *h_C = (float *)malloc(nr_rows_C * nr_cols_C * sizeof(float));\n",
        "  float *h_C_ = (float *)malloc(nr_rows_C * nr_cols_C * sizeof(float));\n",
        "\n",
        "  float *d_A, *d_B, *d_C;\n",
        "  cudaMalloc(&d_A,nr_rows_A * nr_cols_A * sizeof(float));\n",
        "  cudaMalloc(&d_B,nr_rows_B * nr_cols_B * sizeof(float));\n",
        "  cudaMalloc(&d_C,nr_rows_C * nr_cols_C * sizeof(float));\n",
        "\n",
        "  GPU_fill_rand(d_A, nr_rows_A, nr_cols_A);\n",
        "  GPU_fill_rand(d_B, nr_rows_B, nr_cols_B);\n",
        "\n",
        "  //fill_matrix(h_A, nr_rows_A, nr_cols_A);\n",
        "  //fill_matrix(h_B, nr_rows_B, nr_cols_B);\n",
        "\n",
        "  double start = clock();\n",
        "  cudaMemcpy(d_A, h_A, nr_rows_A * nr_cols_A * sizeof(float), cudaMemcpyHostToDevice);\n",
        "  cudaMemcpy(d_B, h_B, nr_rows_B * nr_cols_B * sizeof(float), cudaMemcpyHostToDevice);\n",
        "  double end = clock();\n",
        "\n",
        "  cudaMemcpy(h_A, d_A, nr_rows_A * nr_cols_A * sizeof(float),cudaMemcpyDeviceToHost);\n",
        "  cudaMemcpy(h_B, d_B, nr_rows_B * nr_cols_B * sizeof(float),cudaMemcpyDeviceToHost);\n",
        "\n",
        "  printf(\"A = \\n\");\n",
        "  print_matrix(h_A, 5, 5);\n",
        "\n",
        "  printf(\"B = \\n\");\n",
        "  print_matrix(h_B, 5, 5);\n",
        "\n",
        "  double start_ = clock();\n",
        "  gpu_blas_mmul(d_A, d_B, d_C, nr_rows_A, nr_cols_A, nr_cols_B);\n",
        "  double end_ = clock();\n",
        "\n",
        "  cudaMemcpy(h_C,d_C,nr_rows_C * nr_cols_C * sizeof(float),cudaMemcpyDeviceToHost);\n",
        "  printf(\"C = \\n\");\n",
        "  print_matrix(h_C, 5, 5);\n",
        "\n",
        "  cout << \"\\nTime = \" << (end - start) / CLOCKS_PER_SEC << endl;\n",
        "\n",
        "  cudaFree(d_A);\n",
        "  cudaFree(d_B);\n",
        "  cudaFree(d_C);\n",
        "\n",
        "  free(h_A);\n",
        "  free(h_B);\n",
        "  free(h_C);\n",
        "  return 0;\n",
        "}\n"
      ],
      "metadata": {
        "colab": {
          "base_uri": "https://localhost:8080/",
          "height": 35
        },
        "id": "Jx63K1Qr-FOJ",
        "outputId": "8c22a806-01cb-40a8-c10d-b33f2ece7707"
      },
      "execution_count": null,
      "outputs": [
        {
          "output_type": "execute_result",
          "data": {
            "text/plain": [
              "'File written in /content/src/my_curand.cu'"
            ],
            "application/vnd.google.colaboratory.intrinsic+json": {
              "type": "string"
            }
          },
          "metadata": {},
          "execution_count": 2
        }
      ]
    },
    {
      "cell_type": "code",
      "source": [
        "%%cuda --name my_curand.cu\n",
        "\n",
        "#include <iostream>\n",
        "#define Q 12\n",
        "#define NMAX 8200000\n",
        "\n",
        "int main(int argc, char* argv[]) {\n",
        "    double a[NMAX], sum[NMAX], b[NMAX];\n",
        "    int n;\n",
        "    n = NMAX;\n",
        "\n",
        "    // инициализация массивов\n",
        "    for (int j = 0; j < n; j++) {\n",
        "        a[j] = 1;\n",
        "        b[j] = 1;\n",
        "    }\n",
        "\n",
        "    //суммирование векторов\n",
        "    double st_time, end_time = 0;\n",
        "    //последовательная программа\n",
        "    for (int timeCount = 0; timeCount < 12; timeCount++) {\n",
        "        st_time = clock();\n",
        "        for (int k = 0; k < n; k++) {\n",
        "            for (int j = 0; j < Q; j++) {\n",
        "                sum[k] = a[k] + b[k];\n",
        "            }\n",
        "        }\n",
        "        end_time += clock() - st_time;\n",
        "    }\n",
        "\n",
        "    printf(\"\\nTime: %f \", end_time / 12);\n",
        "    printf(\"\\nsum[0]=%f, a[0]=%f, b[0]=%f\", sum[0], a[0], b[0]);\n",
        "    printf(\"\\nsum[1]=%f, a[1]=%f, b[1]=%f\", sum[1], a[1], b[1]);\n",
        "    printf(\"\\nsum[1]=%f, a[1]=%f, b[1]=%f\", sum[1], a[1], b[1]);\n",
        "\n",
        "\n",
        "}\n"
      ],
      "metadata": {
        "colab": {
          "base_uri": "https://localhost:8080/",
          "height": 35
        },
        "id": "FFdn1oLlmqAn",
        "outputId": "6e81382c-acc2-4309-bcf2-b6ca86e264db"
      },
      "execution_count": null,
      "outputs": [
        {
          "output_type": "execute_result",
          "data": {
            "text/plain": [
              "'File written in /content/src/my_curand.cu'"
            ],
            "application/vnd.google.colaboratory.intrinsic+json": {
              "type": "string"
            }
          },
          "metadata": {},
          "execution_count": 57
        }
      ]
    },
    {
      "cell_type": "code",
      "source": [
        "!nvcc -o /content/src/my_curand /content/src/my_curand.cu -lcurand -lcublas"
      ],
      "metadata": {
        "id": "918fx03Doty6"
      },
      "execution_count": null,
      "outputs": []
    },
    {
      "cell_type": "code",
      "source": [
        "!/content/src/my_curand"
      ],
      "metadata": {
        "id": "GnMs6dRXpDJU"
      },
      "execution_count": null,
      "outputs": []
    }
  ]
}